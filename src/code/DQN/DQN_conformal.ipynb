{
 "cells": [
  {
   "cell_type": "markdown",
   "metadata": {},
   "source": [
    "### DQN confidence prediction using Conformal Prediction"
   ]
  },
  {
   "cell_type": "code",
   "execution_count": 1,
   "metadata": {},
   "outputs": [],
   "source": [
    "# !pip install Box2D\n",
    "# !pip install 'gym[all]'\n",
    "# !pip install pyyaml\n",
    "import gym\n",
    "import numpy as np\n",
    "import matplotlib.pyplot as plt\n",
    "from collections import deque, defaultdict\n",
    "\n",
    "import time\n",
    "import sys\n",
    "from tqdm import tqdm\n",
    "import yaml\n",
    "import re\n",
    "\n",
    "from dqnetwork import DQNetwork\n",
    "from agent import Agent\n",
    "\n",
    "import torch\n",
    "import torch.nn as nn\n",
    "import torch.nn.functional as F\n",
    "\n",
    "from os import listdir, getcwd\n",
    "from os.path import isabs, join"
   ]
  },
  {
   "cell_type": "code",
   "execution_count": 2,
   "metadata": {},
   "outputs": [],
   "source": [
    "## Load the environment\n",
    "env_id = 'LunarLander-v2'\n",
    "env = gym.make(env_id)"
   ]
  },
  {
   "cell_type": "code",
   "execution_count": 3,
   "metadata": {},
   "outputs": [],
   "source": [
    "device = torch.device(\"cuda:0\" if torch.cuda.is_available() else \"cpu\") #Enable cuda if available"
   ]
  },
  {
   "cell_type": "markdown",
   "metadata": {},
   "source": [
    "# Deep Double Q Network with Prioritized Experience Replay Buffers"
   ]
  },
  {
   "cell_type": "markdown",
   "metadata": {},
   "source": [
    "### Step 1. Load Expert & Evaluation Policies"
   ]
  },
  {
   "cell_type": "code",
   "execution_count": 4,
   "metadata": {},
   "outputs": [
    {
     "name": "stdout",
     "output_type": "stream",
     "text": [
      "Model loaded into local and target networks!\n",
      "Model loaded into local and target networks!\n"
     ]
    }
   ],
   "source": [
    "behavior_agent = Agent(path=\"../../models/behavior_DQN_policy.pth\") #loads behavior policy\n",
    "eval_agent   = Agent(path=\"../../models/evaluation2_DQN_policy.pth\") #loads evaluation policy"
   ]
  },
  {
   "cell_type": "markdown",
   "metadata": {},
   "source": [
    "### Step 2. Running Trajectory rollout"
   ]
  },
  {
   "cell_type": "code",
   "execution_count": 5,
   "metadata": {},
   "outputs": [],
   "source": [
    "def generate_trajectory(b_agent:Agent, e_agent:Agent):\n",
    "    \"\"\"\n",
    "    Generate Probability for an evaluation agent w.r.t behavior agent.\n",
    "    @Param:\n",
    "    1. b_agent - (Agent) Behavior policy.\n",
    "    2. e_agent - (Agent) Evaluation policy.\n",
    "    @Return:\n",
    "    - actions - (np.array[np.array]) set of actions taken by behavior and evaluation agent.\n",
    "    - probs   - (np.array[np.array[np.array]]) set of probability (shape - env.action_size) \n",
    "                for each timestep both agents.\n",
    "    - states  - (np.array[np.array]) set of states taken by behavior and evaluation agent.\n",
    "    \"\"\"\n",
    "    \n",
    "    #### \n",
    "    states, e_actions, b_actions, e_probs, b_probs = [], [], [], [], []\n",
    "    ####\n",
    "    \n",
    "    state = env.reset()\n",
    "    total_reward = 0\n",
    "    done = False #terminal condition\n",
    "    \n",
    "    ### set to evaluation mode\n",
    "    b_agent.qnetwork_local.eval()\n",
    "    e_agent.qnetwork_local.eval()\n",
    "    \n",
    "    while not done:\n",
    "        b_action, b_prob = b_agent.get_action(state, eps=0) #get action using behavior agent.\n",
    "        e_action, e_prob = e_agent.get_action(state, eps=0) #get action using evaluation agent.\n",
    "        \n",
    "        next_state, reward, done, info = env.step(b_action) #rollout from Expert (behavior) policy\n",
    "        \n",
    "        total_reward += reward\n",
    "        \n",
    "        #### append ####\n",
    "        states.append(state) #append states to feature matrix\n",
    "        \n",
    "        e_actions.append(e_action) #append evaluation policy actions\n",
    "        b_actions.append(b_action) #append behavior policy actions\n",
    "        \n",
    "        b_probs.append(b_prob) #append stochastic actions of behavior agent\n",
    "        e_probs.append(e_prob) #append stochastic actions of evaluation agent\n",
    "        #### append ####\n",
    "        \n",
    "        state = next_state\n",
    "        \n",
    "    print(\"TOTAL REWARD FROM EXPERT POLICY\", total_reward)\n",
    "    assert(total_reward >= 200) #conditioned on truth\n",
    "    return np.array(states), np.array(e_actions), np.array(b_actions), np.array(e_probs), np.array(b_probs)"
   ]
  },
  {
   "cell_type": "code",
   "execution_count": 6,
   "metadata": {},
   "outputs": [
    {
     "name": "stdout",
     "output_type": "stream",
     "text": [
      "TOTAL REWARD FROM EXPERT POLICY 202.3820933398222\n"
     ]
    }
   ],
   "source": [
    "feature_matrix, Y_eval_train, Y_behv_train, eval_prob, behv_prob = generate_trajectory(behavior_agent, eval_agent)"
   ]
  },
  {
   "cell_type": "code",
   "execution_count": 7,
   "metadata": {},
   "outputs": [
    {
     "data": {
      "text/plain": [
       "((530, 8), (530,), (530,), (530, 1, 4), (530, 1, 4))"
      ]
     },
     "execution_count": 7,
     "metadata": {},
     "output_type": "execute_result"
    }
   ],
   "source": [
    "feature_matrix.shape, Y_eval_train.shape, Y_behv_train.shape, eval_prob.shape, behv_prob.shape"
   ]
  },
  {
   "cell_type": "markdown",
   "metadata": {},
   "source": [
    "# Conformal Prediction"
   ]
  },
  {
   "cell_type": "markdown",
   "metadata": {},
   "source": [
    "<p>\n",
    "Steps for conformal prediction:\n",
    "<ol>\n",
    "    <li>Calculate nonconformal score using Nearest Centroid algorithm</li>\n",
    "    <li>Calculate p-values corresponding to the current possible prediction/label</li>\n",
    "    <li>Output j as predicted label of the current example with p-value $p_j$ if and only if $p_j > \\epsilon $ </li>\n",
    "</ol>\n",
    "</p>"
   ]
  },
  {
   "cell_type": "markdown",
   "metadata": {},
   "source": [
    "### Nearest Centroid algorithm"
   ]
  },
  {
   "cell_type": "code",
   "execution_count": 8,
   "metadata": {},
   "outputs": [],
   "source": [
    "def euclid(point, centroid):\n",
    "    \"\"\"Calculate the distance between a test point and a centroid point\"\"\"\n",
    "    #assuming point and centroid are tensors\n",
    "    point = np.array(point)\n",
    "    centroid = np.array(centroid)\n",
    "    return np.linalg.norm(point - centroid)"
   ]
  },
  {
   "cell_type": "code",
   "execution_count": 9,
   "metadata": {},
   "outputs": [],
   "source": [
    "def centroid(data):\n",
    "    \"\"\"Find the centroid for one class of object\"\"\"\n",
    "    features, observations = data.shape\n",
    "#     if(features > observations):\n",
    "#         raise ValueError(\"too few observations\")\n",
    "    \n",
    "    central = []\n",
    "    for i in range(features):\n",
    "        mean = np.mean(data[i])\n",
    "        central.append(mean)\n",
    "    return central"
   ]
  },
  {
   "cell_type": "code",
   "execution_count": 10,
   "metadata": {},
   "outputs": [],
   "source": [
    "def split_classes(data, labels):\n",
    "    \"\"\"Split data into N classes based on corresponding label from evaluation agent\"\"\"\n",
    "    hash_table = {}\n",
    "    for i in range(data.shape[0]):\n",
    "        label = labels[i].item() #get class label\n",
    "        if(label in hash_table):\n",
    "            hash_table[label].append(data[i])\n",
    "        else:\n",
    "            hash_table[label] = [data[i]]\n",
    "    \n",
    "    #convert each value to nd.array\n",
    "    for key in hash_table:\n",
    "        hash_table[key] = np.array(hash_table[key])\n",
    "        \n",
    "    return np.array(list(hash_table.values()))"
   ]
  },
  {
   "cell_type": "code",
   "execution_count": 11,
   "metadata": {},
   "outputs": [],
   "source": [
    "action_classes = split_classes(feature_matrix, Y_eval_train) #each category is labeled as chronological class"
   ]
  },
  {
   "cell_type": "code",
   "execution_count": 12,
   "metadata": {},
   "outputs": [],
   "source": [
    "action_centroids = []\n",
    "\n",
    "for matrix in action_classes:\n",
    "    action_centroids.append( centroid(matrix.T) )\n",
    "    \n",
    "action_centroids = np.array(action_centroids) #to numpy"
   ]
  },
  {
   "cell_type": "markdown",
   "metadata": {},
   "source": [
    "### Non conformity score"
   ]
  },
  {
   "cell_type": "code",
   "execution_count": 13,
   "metadata": {},
   "outputs": [],
   "source": [
    "def nonconformity_measure(test_point, label, centroids):\n",
    "    \"\"\"Computes the nonconformity score for a single test-point (HELPER method)\"\"\"\n",
    "    action_dist = euclid(test_point, centroids[label])\n",
    "    non_test_action_dist = float('inf')\n",
    "    for i, cxr in enumerate(centroids):\n",
    "        if(i != label):\n",
    "            non_test_action_dist = min(non_test_action_dist, euclid(test_point, centroids[i]))\n",
    "    \n",
    "    return action_dist / non_test_action_dist"
   ]
  },
  {
   "cell_type": "code",
   "execution_count": 14,
   "metadata": {},
   "outputs": [],
   "source": [
    "def subset_nc(testing_data, prediction_probs, centroids):\n",
    "    \"\"\"Calculate the non-conformity measure for a subset of data\"\"\"\n",
    "    nums = len(testing_data) #number of conformity scores\n",
    "    y_pred = prediction_probs\n",
    "    predictions = [x.argmax() for x in y_pred]\n",
    "    non_conformity_scores = [nonconformity_measure(testing_data[i], predictions[i], centroids) for i in range(nums)]\n",
    "    return np.array(non_conformity_scores)"
   ]
  },
  {
   "cell_type": "code",
   "execution_count": 15,
   "metadata": {},
   "outputs": [],
   "source": [
    "def compute_p_value(data, labels, centroids, nc_scores):\n",
    "    \"\"\"Calculate p-value from a distribution on non-conformity scores\"\"\"\n",
    "    #compute the conformity scores of dataset first (this will be the training data)\n",
    "    #after this, use the conformal function to determine p-value: #{j = 1,...,n: alpha_j ≥ alpha_n}/N\n",
    "    N = len(labels)\n",
    "    non_conformity_scores = [nonconformity_measure(data[i], labels[i], centroids) for i in range(N)]\n",
    "    output = []\n",
    "    for test_nc in nc_scores:\n",
    "        scores = 0\n",
    "        for j in range(len(non_conformity_scores)):\n",
    "            if(non_conformity_scores[j] >= test_nc):\n",
    "                scores += 1\n",
    "\n",
    "        p_value = scores/N\n",
    "        output.append(p_value)\n",
    "        \n",
    "    return np.array(output)"
   ]
  },
  {
   "cell_type": "code",
   "execution_count": 16,
   "metadata": {},
   "outputs": [],
   "source": [
    "nc_scores = subset_nc(feature_matrix, eval_prob, action_centroids)"
   ]
  },
  {
   "cell_type": "code",
   "execution_count": 17,
   "metadata": {},
   "outputs": [],
   "source": [
    "p_values = compute_p_value(feature_matrix, Y_behv_train, action_centroids, nc_scores)"
   ]
  },
  {
   "cell_type": "code",
   "execution_count": 18,
   "metadata": {},
   "outputs": [],
   "source": [
    "def get_error(p_values, epsilon_start, epsilon_end, labels, prediction_labels, test_data):\n",
    "    \"\"\"Computes the error at a particular significance level(epislon) on the test data based on p-values\"\"\"\n",
    "    y_pred = prediction_labels\n",
    "    predictions = [x.argmax() for x in y_pred] #compute predictions.\n",
    "    confidence = 1 - p_values\n",
    "    score = 0\n",
    "    tots = np.size(np.where((confidence < epsilon_end) & (confidence >= epsilon_start)))\n",
    "    for prediction, label, conf in zip(predictions, labels, confidence):\n",
    "        \n",
    "        if(prediction == label and epsilon_start <= conf < epsilon_end):\n",
    "            score += 1/tots\n",
    "\n",
    "#     print(f\"{epsilon_start*100}% confidence yields {np.round(score*100,3)}% accuracy\")\n",
    "    return score*100, tots"
   ]
  },
  {
   "cell_type": "code",
   "execution_count": 19,
   "metadata": {},
   "outputs": [],
   "source": [
    "error = []\n",
    "samples = []\n",
    "N = 10\n",
    "for i in range(0, N):\n",
    "    score, tots = get_error(p_values, i/N, (i+1)/N, Y_behv_train, eval_prob, feature_matrix)\n",
    "    error.append(score)\n",
    "    samples.append(tots)\n",
    "        \n",
    "##typecast to nd.array from bug: shape mismatch: objects cannot be broadcast to a single shape\n",
    "error = np.array(error)\n",
    "samples = np.array(samples)"
   ]
  },
  {
   "cell_type": "code",
   "execution_count": 20,
   "metadata": {},
   "outputs": [
    {
     "data": {
      "image/png": "[encoded data removed]",
      "text/plain": [
       "<Figure size 432x288 with 1 Axes>"
      ]
     },
     "metadata": {
      "needs_background": "light"
     },
     "output_type": "display_data"
    }
   ],
   "source": [
    "plt.plot(np.arange(0, 100, 100//N), error, 'red')\n",
    "plt.bar(np.arange(0, 100, 100//N), error, width=100//N - .5, align='edge')\n",
    "plt.yticks(np.arange(0, 110, 10))\n",
    "plt.xticks(np.arange(0, 110, 100//N))\n",
    "plt.xlabel(\"Epsilon/Confidence level [0% - 100%]\")\n",
    "plt.ylabel(\"Percent accuracy\")\n",
    "plt.title(\"Relationship between confidence level and model accuracy on test data\")\n",
    "plt.grid()\n",
    "plt.show()"
   ]
  },
  {
   "cell_type": "code",
   "execution_count": 21,
   "metadata": {},
   "outputs": [
    {
     "data": {
      "image/png": "[encoded data removed]",
      "text/plain": [
       "<Figure size 432x288 with 1 Axes>"
      ]
     },
     "metadata": {
      "needs_background": "light"
     },
     "output_type": "display_data"
    }
   ],
   "source": [
    "plt.plot(np.arange(0, 100, 100//N), samples, 'red')\n",
    "plt.bar(np.arange(0, 100, 100//N), samples, width=100//N - .5, align='edge')\n",
    "plt.xticks(np.arange(0, 110, 100//N))\n",
    "plt.xlabel(\"Epsilon/Confidence level [0% - 100%]\")\n",
    "plt.ylabel(\"Number of samples\")\n",
    "plt.title(\"Relationship between confidence level and number of samples\")\n",
    "plt.grid()\n",
    "plt.show()"
   ]
  }
 ],
 "metadata": {
  "kernelspec": {
   "display_name": "Python 3",
   "language": "python",
   "name": "python3"
  },
  "language_info": {
   "codemirror_mode": {
    "name": "ipython",
    "version": 3
   },
   "file_extension": ".py",
   "mimetype": "text/x-python",
   "name": "python",
   "nbconvert_exporter": "python",
   "pygments_lexer": "ipython3",
   "version": "3.7.6"
  }
 },
 "nbformat": 4,
 "nbformat_minor": 4
}
