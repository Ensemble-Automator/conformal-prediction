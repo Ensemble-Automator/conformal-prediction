{
 "cells": [
  {
   "cell_type": "markdown",
   "metadata": {},
   "source": [
    "### The following program implements conformal prediction on a classic loans dataset (model implemented using a 3 layer ANN)"
   ]
  },
  {
   "cell_type": "code",
   "execution_count": 1,
   "metadata": {},
   "outputs": [],
   "source": [
    "import numpy as np\n",
    "import matplotlib.pyplot as plt\n",
    "import pandas as pd\n",
    "import time\n",
    "from sklearn.model_selection import train_test_split #don't use for time-series baseline!\n",
    "from sklearn.metrics import accuracy_score\n",
    "from scipy.stats import pearsonr\n",
    "\n",
    "import torch\n",
    "import torch.nn as nn\n",
    "import torch.nn.functional as F"
   ]
  },
  {
   "cell_type": "code",
   "execution_count": 2,
   "metadata": {},
   "outputs": [],
   "source": [
    "train_df = pd.read_csv(\"../../../data/ANN/loan/train.csv\")\n",
    "test_df = pd.read_csv(\"../../../data/ANN/loan/test.csv\")"
   ]
  },
  {
   "cell_type": "code",
   "execution_count": 3,
   "metadata": {},
   "outputs": [
    {
     "data": {
      "text/html": [
       "<div>\n",
       "<style scoped>\n",
       "    .dataframe tbody tr th:only-of-type {\n",
       "        vertical-align: middle;\n",
       "    }\n",
       "\n",
       "    .dataframe tbody tr th {\n",
       "        vertical-align: top;\n",
       "    }\n",
       "\n",
       "    .dataframe thead th {\n",
       "        text-align: right;\n",
       "    }\n",
       "</style>\n",
       "<table border=\"1\" class=\"dataframe\">\n",
       "  <thead>\n",
       "    <tr style=\"text-align: right;\">\n",
       "      <th></th>\n",
       "      <th>Loan_ID</th>\n",
       "      <th>Gender</th>\n",
       "      <th>Married</th>\n",
       "      <th>Dependents</th>\n",
       "      <th>Education</th>\n",
       "      <th>Self_Employed</th>\n",
       "      <th>ApplicantIncome</th>\n",
       "      <th>CoapplicantIncome</th>\n",
       "      <th>LoanAmount</th>\n",
       "      <th>Loan_Amount_Term</th>\n",
       "      <th>Credit_History</th>\n",
       "      <th>Property_Area</th>\n",
       "      <th>Loan_Status</th>\n",
       "    </tr>\n",
       "  </thead>\n",
       "  <tbody>\n",
       "    <tr>\n",
       "      <th>0</th>\n",
       "      <td>LP001002</td>\n",
       "      <td>Male</td>\n",
       "      <td>No</td>\n",
       "      <td>0</td>\n",
       "      <td>Graduate</td>\n",
       "      <td>No</td>\n",
       "      <td>5849</td>\n",
       "      <td>0.0</td>\n",
       "      <td>NaN</td>\n",
       "      <td>360.0</td>\n",
       "      <td>1.0</td>\n",
       "      <td>Urban</td>\n",
       "      <td>Y</td>\n",
       "    </tr>\n",
       "    <tr>\n",
       "      <th>1</th>\n",
       "      <td>LP001003</td>\n",
       "      <td>Male</td>\n",
       "      <td>Yes</td>\n",
       "      <td>1</td>\n",
       "      <td>Graduate</td>\n",
       "      <td>No</td>\n",
       "      <td>4583</td>\n",
       "      <td>1508.0</td>\n",
       "      <td>128.0</td>\n",
       "      <td>360.0</td>\n",
       "      <td>1.0</td>\n",
       "      <td>Rural</td>\n",
       "      <td>N</td>\n",
       "    </tr>\n",
       "    <tr>\n",
       "      <th>2</th>\n",
       "      <td>LP001005</td>\n",
       "      <td>Male</td>\n",
       "      <td>Yes</td>\n",
       "      <td>0</td>\n",
       "      <td>Graduate</td>\n",
       "      <td>Yes</td>\n",
       "      <td>3000</td>\n",
       "      <td>0.0</td>\n",
       "      <td>66.0</td>\n",
       "      <td>360.0</td>\n",
       "      <td>1.0</td>\n",
       "      <td>Urban</td>\n",
       "      <td>Y</td>\n",
       "    </tr>\n",
       "    <tr>\n",
       "      <th>3</th>\n",
       "      <td>LP001006</td>\n",
       "      <td>Male</td>\n",
       "      <td>Yes</td>\n",
       "      <td>0</td>\n",
       "      <td>Not Graduate</td>\n",
       "      <td>No</td>\n",
       "      <td>2583</td>\n",
       "      <td>2358.0</td>\n",
       "      <td>120.0</td>\n",
       "      <td>360.0</td>\n",
       "      <td>1.0</td>\n",
       "      <td>Urban</td>\n",
       "      <td>Y</td>\n",
       "    </tr>\n",
       "    <tr>\n",
       "      <th>4</th>\n",
       "      <td>LP001008</td>\n",
       "      <td>Male</td>\n",
       "      <td>No</td>\n",
       "      <td>0</td>\n",
       "      <td>Graduate</td>\n",
       "      <td>No</td>\n",
       "      <td>6000</td>\n",
       "      <td>0.0</td>\n",
       "      <td>141.0</td>\n",
       "      <td>360.0</td>\n",
       "      <td>1.0</td>\n",
       "      <td>Urban</td>\n",
       "      <td>Y</td>\n",
       "    </tr>\n",
       "  </tbody>\n",
       "</table>\n",
       "</div>"
      ],
      "text/plain": [
       "    Loan_ID Gender Married Dependents     Education Self_Employed  \\\n",
       "0  LP001002   Male      No          0      Graduate            No   \n",
       "1  LP001003   Male     Yes          1      Graduate            No   \n",
       "2  LP001005   Male     Yes          0      Graduate           Yes   \n",
       "3  LP001006   Male     Yes          0  Not Graduate            No   \n",
       "4  LP001008   Male      No          0      Graduate            No   \n",
       "\n",
       "   ApplicantIncome  CoapplicantIncome  LoanAmount  Loan_Amount_Term  \\\n",
       "0             5849                0.0         NaN             360.0   \n",
       "1             4583             1508.0       128.0             360.0   \n",
       "2             3000                0.0        66.0             360.0   \n",
       "3             2583             2358.0       120.0             360.0   \n",
       "4             6000                0.0       141.0             360.0   \n",
       "\n",
       "   Credit_History Property_Area Loan_Status  \n",
       "0             1.0         Urban           Y  \n",
       "1             1.0         Rural           N  \n",
       "2             1.0         Urban           Y  \n",
       "3             1.0         Urban           Y  \n",
       "4             1.0         Urban           Y  "
      ]
     },
     "execution_count": 3,
     "metadata": {},
     "output_type": "execute_result"
    }
   ],
   "source": [
    "train_df.head()"
   ]
  },
  {
   "cell_type": "markdown",
   "metadata": {},
   "source": [
    "## Data pre-processing"
   ]
  },
  {
   "cell_type": "code",
   "execution_count": 4,
   "metadata": {},
   "outputs": [],
   "source": [
    "def preprocess_df(dataframe, isTest=False):\n",
    "    \"\"\"Preprocess a dataframe, unique to the loan_prediction dataset\"\"\"\n",
    "    #perform deep copy, fixes self assignment bug:\n",
    "    #https://pandas.pydata.org/pandas-docs/stable/user_guide/indexing.html#returning-a-view-versus-a-copy\n",
    "    df = dataframe.copy(deep=True)\n",
    "    \n",
    "    null_df = np.sum(df.isnull())\n",
    "    print(null_df) \n",
    "    print(f\"\\nTotal null values: {np.sum(null_df)}\") #get total number of null values\n",
    "    ### remove all rows with null values\n",
    "    df = df.dropna(how='any',axis=0) \n",
    "    del df['Loan_ID'] #remove Loan_ID (irrelevant)\n",
    "\n",
    "    # convert to binary variables\n",
    "\n",
    "    ##----------------------------------------------------------------------------\n",
    "    #### ----------------------------------Table----------------------------------\n",
    "    ##----------------------------------------------------------------------------\n",
    "\n",
    "    #> ----Gender---\n",
    "    ## - Male: 0\n",
    "    ## - Female: 1\n",
    "    df.loc[(df.Gender == 'Male'),'Gender']=0\n",
    "    df.loc[(df.Gender == 'Female'),'Gender']=1\n",
    "\n",
    "    #> ----Married---\n",
    "    ## - No: 0\n",
    "    ## - Yes: 1\n",
    "    df.loc[(df.Married == 'Yes'),'Married']=0\n",
    "    df.loc[(df.Married == 'No'),'Married']=1\n",
    "\n",
    "    #> ----Education---\n",
    "    ## - Not Graduate: 0\n",
    "    ## - Graduate: 1\n",
    "    df.loc[(df.Education == 'Not Graduate'),'Education']=0\n",
    "    df.loc[(df.Education == 'Graduate'),'Education']=1\n",
    "\n",
    "    #> ----Self_Employed---\n",
    "    ## - No: 0\n",
    "    ## - Yes: 1\n",
    "    df.loc[(df.Self_Employed == 'No'),'Self_Employed']=0\n",
    "    df.loc[(df.Self_Employed == 'Yes'),'Self_Employed']=1\n",
    "\n",
    "\n",
    "    #> ----Property_area---\n",
    "    ## - Rural: 0\n",
    "    ## - Urban: 1\n",
    "    ## - Semiurban: 2\n",
    "    df.loc[(df.Property_Area == 'Rural'),'Property_Area']=0\n",
    "    df.loc[(df.Property_Area == 'Urban'),'Property_Area']=1\n",
    "    df.loc[(df.Property_Area == 'Semiurban'),'Property_Area']=2\n",
    "    \n",
    "    \n",
    "    #> ----Loan_Status--- (ONLY for Training set)\n",
    "    ## - No: 0\n",
    "    ## - Yes: 1\n",
    "    if(not isTest):\n",
    "        df.loc[(df.Loan_Status == 'N'),'Loan_Status']=0\n",
    "        df.loc[(df.Loan_Status == 'Y'),'Loan_Status']=1\n",
    "\n",
    "    #> -----Dependents-----\n",
    "    #set max as \n",
    "    df.loc[(df.Dependents == '3+'), 'Dependents'] = 3\n",
    "    ##----------------------------------------------------------------------------\n",
    "    #### ----------------------------------Table----------------------------------\n",
    "    ##----------------------------------------------------------------------------\n",
    "\n",
    "    #!!! Typecase to float (for tensors below)\n",
    "    df = df.astype(float)\n",
    "    \n",
    "    return df"
   ]
  },
  {
   "cell_type": "code",
   "execution_count": 5,
   "metadata": {},
   "outputs": [
    {
     "name": "stdout",
     "output_type": "stream",
     "text": [
      "Loan_ID               0\n",
      "Gender               13\n",
      "Married               3\n",
      "Dependents           15\n",
      "Education             0\n",
      "Self_Employed        32\n",
      "ApplicantIncome       0\n",
      "CoapplicantIncome     0\n",
      "LoanAmount           22\n",
      "Loan_Amount_Term     14\n",
      "Credit_History       50\n",
      "Property_Area         0\n",
      "Loan_Status           0\n",
      "dtype: int64\n",
      "\n",
      "Total null values: 149\n",
      "Loan_ID               0\n",
      "Gender               11\n",
      "Married               0\n",
      "Dependents           10\n",
      "Education             0\n",
      "Self_Employed        23\n",
      "ApplicantIncome       0\n",
      "CoapplicantIncome     0\n",
      "LoanAmount            5\n",
      "Loan_Amount_Term      6\n",
      "Credit_History       29\n",
      "Property_Area         0\n",
      "dtype: int64\n",
      "\n",
      "Total null values: 84\n"
     ]
    }
   ],
   "source": [
    "train_df = preprocess_df(train_df)\n",
    "test_df = preprocess_df(test_df, isTest=True)"
   ]
  },
  {
   "cell_type": "code",
   "execution_count": 6,
   "metadata": {},
   "outputs": [
    {
     "data": {
      "text/html": [
       "<div>\n",
       "<style scoped>\n",
       "    .dataframe tbody tr th:only-of-type {\n",
       "        vertical-align: middle;\n",
       "    }\n",
       "\n",
       "    .dataframe tbody tr th {\n",
       "        vertical-align: top;\n",
       "    }\n",
       "\n",
       "    .dataframe thead th {\n",
       "        text-align: right;\n",
       "    }\n",
       "</style>\n",
       "<table border=\"1\" class=\"dataframe\">\n",
       "  <thead>\n",
       "    <tr style=\"text-align: right;\">\n",
       "      <th></th>\n",
       "      <th>Gender</th>\n",
       "      <th>Married</th>\n",
       "      <th>Dependents</th>\n",
       "      <th>Education</th>\n",
       "      <th>Self_Employed</th>\n",
       "      <th>ApplicantIncome</th>\n",
       "      <th>CoapplicantIncome</th>\n",
       "      <th>LoanAmount</th>\n",
       "      <th>Loan_Amount_Term</th>\n",
       "      <th>Credit_History</th>\n",
       "      <th>Property_Area</th>\n",
       "      <th>Loan_Status</th>\n",
       "    </tr>\n",
       "  </thead>\n",
       "  <tbody>\n",
       "    <tr>\n",
       "      <th>1</th>\n",
       "      <td>0.0</td>\n",
       "      <td>0.0</td>\n",
       "      <td>1.0</td>\n",
       "      <td>1.0</td>\n",
       "      <td>0.0</td>\n",
       "      <td>4583.0</td>\n",
       "      <td>1508.0</td>\n",
       "      <td>128.0</td>\n",
       "      <td>360.0</td>\n",
       "      <td>1.0</td>\n",
       "      <td>0.0</td>\n",
       "      <td>0.0</td>\n",
       "    </tr>\n",
       "    <tr>\n",
       "      <th>2</th>\n",
       "      <td>0.0</td>\n",
       "      <td>0.0</td>\n",
       "      <td>0.0</td>\n",
       "      <td>1.0</td>\n",
       "      <td>1.0</td>\n",
       "      <td>3000.0</td>\n",
       "      <td>0.0</td>\n",
       "      <td>66.0</td>\n",
       "      <td>360.0</td>\n",
       "      <td>1.0</td>\n",
       "      <td>1.0</td>\n",
       "      <td>1.0</td>\n",
       "    </tr>\n",
       "    <tr>\n",
       "      <th>3</th>\n",
       "      <td>0.0</td>\n",
       "      <td>0.0</td>\n",
       "      <td>0.0</td>\n",
       "      <td>0.0</td>\n",
       "      <td>0.0</td>\n",
       "      <td>2583.0</td>\n",
       "      <td>2358.0</td>\n",
       "      <td>120.0</td>\n",
       "      <td>360.0</td>\n",
       "      <td>1.0</td>\n",
       "      <td>1.0</td>\n",
       "      <td>1.0</td>\n",
       "    </tr>\n",
       "    <tr>\n",
       "      <th>4</th>\n",
       "      <td>0.0</td>\n",
       "      <td>1.0</td>\n",
       "      <td>0.0</td>\n",
       "      <td>1.0</td>\n",
       "      <td>0.0</td>\n",
       "      <td>6000.0</td>\n",
       "      <td>0.0</td>\n",
       "      <td>141.0</td>\n",
       "      <td>360.0</td>\n",
       "      <td>1.0</td>\n",
       "      <td>1.0</td>\n",
       "      <td>1.0</td>\n",
       "    </tr>\n",
       "    <tr>\n",
       "      <th>5</th>\n",
       "      <td>0.0</td>\n",
       "      <td>0.0</td>\n",
       "      <td>2.0</td>\n",
       "      <td>1.0</td>\n",
       "      <td>1.0</td>\n",
       "      <td>5417.0</td>\n",
       "      <td>4196.0</td>\n",
       "      <td>267.0</td>\n",
       "      <td>360.0</td>\n",
       "      <td>1.0</td>\n",
       "      <td>1.0</td>\n",
       "      <td>1.0</td>\n",
       "    </tr>\n",
       "  </tbody>\n",
       "</table>\n",
       "</div>"
      ],
      "text/plain": [
       "   Gender  Married  Dependents  Education  Self_Employed  ApplicantIncome  \\\n",
       "1     0.0      0.0         1.0        1.0            0.0           4583.0   \n",
       "2     0.0      0.0         0.0        1.0            1.0           3000.0   \n",
       "3     0.0      0.0         0.0        0.0            0.0           2583.0   \n",
       "4     0.0      1.0         0.0        1.0            0.0           6000.0   \n",
       "5     0.0      0.0         2.0        1.0            1.0           5417.0   \n",
       "\n",
       "   CoapplicantIncome  LoanAmount  Loan_Amount_Term  Credit_History  \\\n",
       "1             1508.0       128.0             360.0             1.0   \n",
       "2                0.0        66.0             360.0             1.0   \n",
       "3             2358.0       120.0             360.0             1.0   \n",
       "4                0.0       141.0             360.0             1.0   \n",
       "5             4196.0       267.0             360.0             1.0   \n",
       "\n",
       "   Property_Area  Loan_Status  \n",
       "1            0.0          0.0  \n",
       "2            1.0          1.0  \n",
       "3            1.0          1.0  \n",
       "4            1.0          1.0  \n",
       "5            1.0          1.0  "
      ]
     },
     "execution_count": 6,
     "metadata": {},
     "output_type": "execute_result"
    }
   ],
   "source": [
    "train_df.head() #processed"
   ]
  },
  {
   "cell_type": "code",
   "execution_count": 7,
   "metadata": {},
   "outputs": [
    {
     "data": {
      "text/html": [
       "<div>\n",
       "<style scoped>\n",
       "    .dataframe tbody tr th:only-of-type {\n",
       "        vertical-align: middle;\n",
       "    }\n",
       "\n",
       "    .dataframe tbody tr th {\n",
       "        vertical-align: top;\n",
       "    }\n",
       "\n",
       "    .dataframe thead th {\n",
       "        text-align: right;\n",
       "    }\n",
       "</style>\n",
       "<table border=\"1\" class=\"dataframe\">\n",
       "  <thead>\n",
       "    <tr style=\"text-align: right;\">\n",
       "      <th></th>\n",
       "      <th>Gender</th>\n",
       "      <th>Married</th>\n",
       "      <th>Dependents</th>\n",
       "      <th>Education</th>\n",
       "      <th>Self_Employed</th>\n",
       "      <th>ApplicantIncome</th>\n",
       "      <th>CoapplicantIncome</th>\n",
       "      <th>LoanAmount</th>\n",
       "      <th>Loan_Amount_Term</th>\n",
       "      <th>Credit_History</th>\n",
       "      <th>Property_Area</th>\n",
       "    </tr>\n",
       "  </thead>\n",
       "  <tbody>\n",
       "    <tr>\n",
       "      <th>0</th>\n",
       "      <td>0.0</td>\n",
       "      <td>0.0</td>\n",
       "      <td>0.0</td>\n",
       "      <td>1.0</td>\n",
       "      <td>0.0</td>\n",
       "      <td>5720.0</td>\n",
       "      <td>0.0</td>\n",
       "      <td>110.0</td>\n",
       "      <td>360.0</td>\n",
       "      <td>1.0</td>\n",
       "      <td>1.0</td>\n",
       "    </tr>\n",
       "    <tr>\n",
       "      <th>1</th>\n",
       "      <td>0.0</td>\n",
       "      <td>0.0</td>\n",
       "      <td>1.0</td>\n",
       "      <td>1.0</td>\n",
       "      <td>0.0</td>\n",
       "      <td>3076.0</td>\n",
       "      <td>1500.0</td>\n",
       "      <td>126.0</td>\n",
       "      <td>360.0</td>\n",
       "      <td>1.0</td>\n",
       "      <td>1.0</td>\n",
       "    </tr>\n",
       "    <tr>\n",
       "      <th>2</th>\n",
       "      <td>0.0</td>\n",
       "      <td>0.0</td>\n",
       "      <td>2.0</td>\n",
       "      <td>1.0</td>\n",
       "      <td>0.0</td>\n",
       "      <td>5000.0</td>\n",
       "      <td>1800.0</td>\n",
       "      <td>208.0</td>\n",
       "      <td>360.0</td>\n",
       "      <td>1.0</td>\n",
       "      <td>1.0</td>\n",
       "    </tr>\n",
       "    <tr>\n",
       "      <th>4</th>\n",
       "      <td>0.0</td>\n",
       "      <td>1.0</td>\n",
       "      <td>0.0</td>\n",
       "      <td>0.0</td>\n",
       "      <td>0.0</td>\n",
       "      <td>3276.0</td>\n",
       "      <td>0.0</td>\n",
       "      <td>78.0</td>\n",
       "      <td>360.0</td>\n",
       "      <td>1.0</td>\n",
       "      <td>1.0</td>\n",
       "    </tr>\n",
       "    <tr>\n",
       "      <th>5</th>\n",
       "      <td>0.0</td>\n",
       "      <td>0.0</td>\n",
       "      <td>0.0</td>\n",
       "      <td>0.0</td>\n",
       "      <td>1.0</td>\n",
       "      <td>2165.0</td>\n",
       "      <td>3422.0</td>\n",
       "      <td>152.0</td>\n",
       "      <td>360.0</td>\n",
       "      <td>1.0</td>\n",
       "      <td>1.0</td>\n",
       "    </tr>\n",
       "  </tbody>\n",
       "</table>\n",
       "</div>"
      ],
      "text/plain": [
       "   Gender  Married  Dependents  Education  Self_Employed  ApplicantIncome  \\\n",
       "0     0.0      0.0         0.0        1.0            0.0           5720.0   \n",
       "1     0.0      0.0         1.0        1.0            0.0           3076.0   \n",
       "2     0.0      0.0         2.0        1.0            0.0           5000.0   \n",
       "4     0.0      1.0         0.0        0.0            0.0           3276.0   \n",
       "5     0.0      0.0         0.0        0.0            1.0           2165.0   \n",
       "\n",
       "   CoapplicantIncome  LoanAmount  Loan_Amount_Term  Credit_History  \\\n",
       "0                0.0       110.0             360.0             1.0   \n",
       "1             1500.0       126.0             360.0             1.0   \n",
       "2             1800.0       208.0             360.0             1.0   \n",
       "4                0.0        78.0             360.0             1.0   \n",
       "5             3422.0       152.0             360.0             1.0   \n",
       "\n",
       "   Property_Area  \n",
       "0            1.0  \n",
       "1            1.0  \n",
       "2            1.0  \n",
       "4            1.0  \n",
       "5            1.0  "
      ]
     },
     "execution_count": 7,
     "metadata": {},
     "output_type": "execute_result"
    }
   ],
   "source": [
    "test_df.head() #processed"
   ]
  },
  {
   "cell_type": "code",
   "execution_count": 8,
   "metadata": {},
   "outputs": [],
   "source": [
    "# split into training and testing\n",
    "X = train_df.drop('Loan_Status',axis=1).values\n",
    "y = train_df['Loan_Status'].values\n",
    "\n",
    "# X_test = test_df.values"
   ]
  },
  {
   "cell_type": "code",
   "execution_count": 9,
   "metadata": {},
   "outputs": [
    {
     "name": "stdout",
     "output_type": "stream",
     "text": [
      "Training data feature space: (480, 11)\n"
     ]
    }
   ],
   "source": [
    "print(f\"Training data feature space: {X.shape}\")\n",
    "# print(f\"Testing data feature space: {X_test.shape}\")"
   ]
  },
  {
   "cell_type": "code",
   "execution_count": 10,
   "metadata": {},
   "outputs": [],
   "source": [
    "### Create tensors from np.ndarry main data\n",
    "device = torch.device(\"cuda:0\" if torch.cuda.is_available() else \"cpu\") #Enable cuda if available\n",
    "\n",
    "X_train, X_test, y_train, y_test = train_test_split(X, y, test_size=0.2, random_state=0)\n",
    "X_train = torch.FloatTensor(X_train).to(device)\n",
    "X_test = torch.FloatTensor(X_test).to(device)\n",
    "y_train = torch.LongTensor(y_train).to(device)\n",
    "y_test = torch.LongTensor(y_test).to(device)"
   ]
  },
  {
   "cell_type": "markdown",
   "metadata": {},
   "source": [
    "## Building Model"
   ]
  },
  {
   "cell_type": "code",
   "execution_count": 11,
   "metadata": {},
   "outputs": [],
   "source": [
    "#main model for loan prediction (try out different values for hidden layers to improve baseline)\n",
    "class NN(nn.Module):\n",
    "    def __init__(self, input_features=11, layer1=20, layer2=20, out_features=2):\n",
    "        \"\"\"Initialize the model for loan prediction\"\"\"\n",
    "        super().__init__()\n",
    "        self.fc1 = nn.Linear(input_features, layer1)\n",
    "        self.fc2 = nn.Linear(layer1, layer2)\n",
    "        self.out = nn.Linear(layer2, out_features)\n",
    "        \n",
    "    def forward(self, x):\n",
    "        \"\"\"Forward pass with 11 input features\"\"\"\n",
    "        x = F.relu(self.fc1(x))\n",
    "        x = F.relu(self.fc2(x))\n",
    "        x = self.out(x)\n",
    "        return x"
   ]
  },
  {
   "cell_type": "code",
   "execution_count": 12,
   "metadata": {},
   "outputs": [],
   "source": [
    "# seed the model for reproducibility\n",
    "torch.manual_seed(0)\n",
    "model = NN()"
   ]
  },
  {
   "cell_type": "code",
   "execution_count": 13,
   "metadata": {},
   "outputs": [
    {
     "data": {
      "text/plain": [
       "NN(\n",
       "  (fc1): Linear(in_features=11, out_features=20, bias=True)\n",
       "  (fc2): Linear(in_features=20, out_features=20, bias=True)\n",
       "  (out): Linear(in_features=20, out_features=2, bias=True)\n",
       ")"
      ]
     },
     "execution_count": 13,
     "metadata": {},
     "output_type": "execute_result"
    }
   ],
   "source": [
    "model ##describe model, sort of (integrate tensorboard into PyTorch, not now tho)"
   ]
  },
  {
   "cell_type": "code",
   "execution_count": 14,
   "metadata": {},
   "outputs": [],
   "source": [
    "model = model.to(device)\n",
    "#Load model\n",
    "# model.load_state_dict(torch.load(\"../../models/loan_prediction.pth\"))"
   ]
  },
  {
   "cell_type": "code",
   "execution_count": 15,
   "metadata": {},
   "outputs": [],
   "source": [
    "# implement backprop\n",
    "loss_function = nn.CrossEntropyLoss()\n",
    "optimizer = torch.optim.Adam(model.parameters(), lr=0.005) #adam works well for this."
   ]
  },
  {
   "cell_type": "code",
   "execution_count": 16,
   "metadata": {},
   "outputs": [],
   "source": [
    "def train(epochs=int(1e3), print_every=100, epsilon=0.5):\n",
    "    \"\"\"\n",
    "    Train the model.\n",
    "    - assumes access to following global variables: X_train, y_train, y_pred, model, loss function, & optimizer.\n",
    "    @Param:\n",
    "    1. epochs - number of training iterations.\n",
    "    2. print_every - for visual purposes (set to None to ignore), outputs loss\n",
    "    3. epsilon - threshold to break training.\n",
    "    \"\"\"\n",
    "    start_time = time.time() #set start time\n",
    "    losses = [] #plot\n",
    "    \n",
    "    for i in range(1, epochs+1):\n",
    "        y_pred = model(X_train)\n",
    "        loss = loss_function(y_pred, y_train)\n",
    "        losses.append(loss)\n",
    "        \n",
    "        if(loss.item() <= epsilon):\n",
    "            print(f\"\\nCONVERGED at epoch {i} - loss : {loss.item()}\")\n",
    "            break #converged\n",
    "        \n",
    "        if(print_every is not None and i%print_every == 1):\n",
    "            print(f\"Epoch {i} - loss : {loss.item()}\")\n",
    "            \n",
    "        optimizer.zero_grad()\n",
    "        loss.backward()\n",
    "        optimizer.step()\n",
    "        \n",
    "    print(\"total training time (sec):\", time.time()-start_time)\n",
    "    return losses"
   ]
  },
  {
   "cell_type": "code",
   "execution_count": 17,
   "metadata": {
    "scrolled": true
   },
   "outputs": [
    {
     "name": "stdout",
     "output_type": "stream",
     "text": [
      "Epoch 1 - loss : 61.35926818847656\n",
      "Epoch 101 - loss : 1.3116317987442017\n",
      "Epoch 201 - loss : 0.677432119846344\n",
      "Epoch 301 - loss : 0.9265301823616028\n",
      "Epoch 401 - loss : 0.6723325848579407\n",
      "Epoch 501 - loss : 0.6378673315048218\n",
      "Epoch 601 - loss : 0.6845365166664124\n",
      "Epoch 701 - loss : 0.5160427093505859\n",
      "Epoch 801 - loss : 0.5029237866401672\n",
      "Epoch 901 - loss : 0.49082985520362854\n",
      "Epoch 1001 - loss : 0.4796518385410309\n",
      "Epoch 1101 - loss : 0.4928981065750122\n",
      "Epoch 1201 - loss : 0.6383454203605652\n",
      "Epoch 1301 - loss : 0.4567399322986603\n",
      "Epoch 1401 - loss : 0.44539836049079895\n",
      "Epoch 1501 - loss : 0.44730091094970703\n",
      "Epoch 1601 - loss : 0.7375766634941101\n",
      "Epoch 1701 - loss : 0.4289802014827728\n",
      "Epoch 1801 - loss : 0.411828875541687\n",
      "Epoch 1901 - loss : 0.4025292694568634\n",
      "Epoch 2001 - loss : 0.651762068271637\n",
      "Epoch 2101 - loss : 0.39844778180122375\n",
      "Epoch 2201 - loss : 0.3874124586582184\n",
      "Epoch 2301 - loss : 0.37802672386169434\n",
      "Epoch 2401 - loss : 0.9317508339881897\n",
      "Epoch 2501 - loss : 0.3701041638851166\n",
      "Epoch 2601 - loss : 0.36100077629089355\n",
      "Epoch 2701 - loss : 1.2802790403366089\n",
      "Epoch 2801 - loss : 0.46688923239707947\n",
      "Epoch 2901 - loss : 0.34955742955207825\n",
      "Epoch 3001 - loss : 0.3417738974094391\n",
      "Epoch 3101 - loss : 0.3453097641468048\n",
      "Epoch 3201 - loss : 0.6610934734344482\n",
      "Epoch 3301 - loss : 0.35403215885162354\n",
      "Epoch 3401 - loss : 0.33286044001579285\n",
      "Epoch 3501 - loss : 0.3258424401283264\n",
      "Epoch 3601 - loss : 0.32038697600364685\n",
      "Epoch 3701 - loss : 0.4497746527194977\n",
      "Epoch 3801 - loss : 0.3193330466747284\n",
      "Epoch 3901 - loss : 0.3105974495410919\n",
      "Epoch 4001 - loss : 0.3040049076080322\n",
      "Epoch 4101 - loss : 0.4572930335998535\n",
      "Epoch 4201 - loss : 0.30108848214149475\n",
      "Epoch 4301 - loss : 0.33242979645729065\n",
      "Epoch 4401 - loss : 0.33345523476600647\n",
      "Epoch 4501 - loss : 0.31935375928878784\n",
      "Epoch 4601 - loss : 0.29129964113235474\n",
      "Epoch 4701 - loss : 0.28907546401023865\n",
      "Epoch 4801 - loss : 0.2808363139629364\n",
      "Epoch 4901 - loss : 0.4552959203720093\n",
      "Epoch 5001 - loss : 0.2786642014980316\n",
      "Epoch 5101 - loss : 0.2742297351360321\n",
      "Epoch 5201 - loss : 0.34718725085258484\n",
      "Epoch 5301 - loss : 0.8499098420143127\n",
      "Epoch 5401 - loss : 0.28248491883277893\n",
      "Epoch 5501 - loss : 0.27363187074661255\n",
      "Epoch 5601 - loss : 0.26812201738357544\n",
      "Epoch 5701 - loss : 0.26440081000328064\n",
      "Epoch 5801 - loss : 0.26190242171287537\n",
      "Epoch 5901 - loss : 0.26075467467308044\n",
      "Epoch 6001 - loss : 0.2644731104373932\n",
      "Epoch 6101 - loss : 0.34130239486694336\n",
      "Epoch 6201 - loss : 0.3175104260444641\n",
      "Epoch 6301 - loss : 0.3121766448020935\n",
      "Epoch 6401 - loss : 0.35067394375801086\n",
      "Epoch 6501 - loss : 0.3167164623737335\n",
      "Epoch 6601 - loss : 0.35886311531066895\n",
      "Epoch 6701 - loss : 0.2987600862979889\n",
      "Epoch 6801 - loss : 0.2810061573982239\n",
      "Epoch 6901 - loss : 0.3054337799549103\n",
      "Epoch 7001 - loss : 0.26911646127700806\n",
      "Epoch 7101 - loss : 0.27949726581573486\n",
      "Epoch 7201 - loss : 0.3682422935962677\n",
      "Epoch 7301 - loss : 0.27527448534965515\n",
      "Epoch 7401 - loss : 0.3104376494884491\n",
      "Epoch 7501 - loss : 0.2551129162311554\n",
      "Epoch 7601 - loss : 0.2663528323173523\n",
      "Epoch 7701 - loss : 0.2592104971408844\n",
      "Epoch 7801 - loss : 0.26343777775764465\n",
      "Epoch 7901 - loss : 0.2430492639541626\n",
      "Epoch 8001 - loss : 0.24036990106105804\n",
      "Epoch 8101 - loss : 0.24649174511432648\n",
      "Epoch 8201 - loss : 0.24287377297878265\n",
      "Epoch 8301 - loss : 0.2362867146730423\n",
      "Epoch 8401 - loss : 0.240275576710701\n",
      "Epoch 8501 - loss : 0.2389703392982483\n",
      "Epoch 8601 - loss : 0.2317555695772171\n",
      "Epoch 8701 - loss : 0.2277481108903885\n",
      "Epoch 8801 - loss : 0.49267473816871643\n",
      "Epoch 8901 - loss : 0.2314555048942566\n",
      "Epoch 9001 - loss : 0.2269877791404724\n",
      "Epoch 9101 - loss : 0.4238508939743042\n",
      "Epoch 9201 - loss : 0.24944402277469635\n",
      "Epoch 9301 - loss : 0.2262585312128067\n",
      "Epoch 9401 - loss : 0.23544155061244965\n",
      "Epoch 9501 - loss : 0.34925246238708496\n",
      "Epoch 9601 - loss : 0.23166930675506592\n",
      "Epoch 9701 - loss : 0.25701990723609924\n",
      "Epoch 9801 - loss : 0.22082960605621338\n",
      "Epoch 9901 - loss : 0.22273676097393036\n",
      "Epoch 10001 - loss : 0.26297613978385925\n",
      "Epoch 10101 - loss : 0.21449147164821625\n",
      "Epoch 10201 - loss : 0.21958427131175995\n",
      "Epoch 10301 - loss : 0.3246802091598511\n",
      "Epoch 10401 - loss : 0.24278223514556885\n",
      "Epoch 10501 - loss : 0.22160369157791138\n",
      "Epoch 10601 - loss : 0.2549484968185425\n",
      "Epoch 10701 - loss : 0.23797215521335602\n",
      "Epoch 10801 - loss : 0.2164805680513382\n",
      "Epoch 10901 - loss : 0.23991580307483673\n",
      "Epoch 11001 - loss : 0.21546413004398346\n",
      "Epoch 11101 - loss : 0.6443244814872742\n",
      "Epoch 11201 - loss : 0.21086305379867554\n",
      "\n",
      "CONVERGED at epoch 11249 - loss : 0.1997154802083969\n",
      "total training time (sec): 8.247240781784058\n"
     ]
    }
   ],
   "source": [
    "cost = train(epochs=int(1e5), epsilon=0.2) #hopefully, it didn't overfit. :D"
   ]
  },
  {
   "cell_type": "code",
   "execution_count": 18,
   "metadata": {},
   "outputs": [
    {
     "data": {
      "image/png": "[encoded data removed]",
      "text/plain": [
       "<Figure size 432x288 with 1 Axes>"
      ]
     },
     "metadata": {
      "needs_background": "light"
     },
     "output_type": "display_data"
    }
   ],
   "source": [
    "#graph cost\n",
    "plt.plot(cost)\n",
    "plt.xlabel(\"epoch\")\n",
    "plt.ylabel(\"Loss\")\n",
    "plt.title(\"Cost over epoch\")\n",
    "plt.show()"
   ]
  },
  {
   "cell_type": "code",
   "execution_count": 19,
   "metadata": {},
   "outputs": [],
   "source": [
    "def accuracy(data, verification, pprint=True):\n",
    "    \"\"\"Based on X_test or X_train, predict overall model accuracy.\"\"\"\n",
    "    predictions=[]\n",
    "    with torch.no_grad():\n",
    "        for i, data in enumerate(data):\n",
    "            y_pred = model(data)\n",
    "            predictions.append(y_pred.argmax().item())\n",
    "\n",
    "    predictions = np.array(predictions, dtype=np.int8)\n",
    "    loan = np.where(predictions == 1)[0]\n",
    "    not_loan = np.where(predictions == 0)[0]\n",
    "    \n",
    "    if(pprint): #print logs and graph\n",
    "        print(f\"Prediction loans count: {len(loan)}\")\n",
    "        print(f\"Prediction not loans count: {len(not_loan)}\")\n",
    "        plt.hist(loan, label='Loan')\n",
    "        plt.hist(not_loan, label='Not Loan')\n",
    "        plt.legend()\n",
    "        plt.xlabel(\"Observation\")\n",
    "        plt.ylabel(\"Frequency\")\n",
    "        plt.title(\"Histogram of loan vs. not loan observations\")\n",
    "        plt.show()\n",
    "    score = accuracy_score(verification, predictions)\n",
    "    return score"
   ]
  },
  {
   "cell_type": "code",
   "execution_count": 20,
   "metadata": {},
   "outputs": [
    {
     "name": "stdout",
     "output_type": "stream",
     "text": [
      "Prediction loans count: 289\n",
      "Prediction not loans count: 95\n"
     ]
    },
    {
     "data": {
      "image/png": "[encoded data removed]",
      "text/plain": [
       "<Figure size 432x288 with 1 Axes>"
      ]
     },
     "metadata": {
      "needs_background": "light"
     },
     "output_type": "display_data"
    },
    {
     "name": "stdout",
     "output_type": "stream",
     "text": [
      "Train set accuracy: 0.917\n",
      "Prediction loans count: 71\n",
      "Prediction not loans count: 25\n"
     ]
    },
    {
     "data": {
      "image/png": "[encoded data removed]",
      "text/plain": [
       "<Figure size 432x288 with 1 Axes>"
      ]
     },
     "metadata": {
      "needs_background": "light"
     },
     "output_type": "display_data"
    },
    {
     "name": "stdout",
     "output_type": "stream",
     "text": [
      "Test set accuracy: 0.75\n"
     ]
    }
   ],
   "source": [
    "print(\"Train set accuracy:\", np.round(accuracy(X_train, y_train), 3)) #92% accuracy on test set.\n",
    "print(\"Test set accuracy:\", np.round(accuracy(X_test, y_test), 3))    #75% accuracy on test set."
   ]
  },
  {
   "cell_type": "markdown",
   "metadata": {},
   "source": [
    "## Upload models"
   ]
  },
  {
   "cell_type": "code",
   "execution_count": 21,
   "metadata": {},
   "outputs": [],
   "source": [
    "#Read more: https://pytorch.org/tutorials/beginner/saving_loading_models.html\n",
    "torch.save(model.state_dict(), \"../../models/loan_prediction.pth\")"
   ]
  },
  {
   "cell_type": "markdown",
   "metadata": {},
   "source": [
    "# Conformal Prediction"
   ]
  },
  {
   "cell_type": "markdown",
   "metadata": {},
   "source": [
    "<p>\n",
    "Steps for conformal prediction:\n",
    "<ol>\n",
    "    <li>Calculate nonconformal score using Nearest Centroid algorithm</li>\n",
    "    <li>Calculate p-values corresponding to the current possible prediction/label</li>\n",
    "    <li>Output j as predicted label of the current example with p-value $p_j$ if and only if $p_j > \\epsilon $ </li>\n",
    "</ol>\n",
    "</p>"
   ]
  },
  {
   "cell_type": "markdown",
   "metadata": {},
   "source": [
    "### Nearest Centroid algorithm"
   ]
  },
  {
   "cell_type": "code",
   "execution_count": 22,
   "metadata": {},
   "outputs": [],
   "source": [
    "def euclid(point, centroid):\n",
    "    \"\"\"Calculate the distance between a test point and a centroid point\"\"\"\n",
    "    #assuming point and centroid are tensors\n",
    "    point = np.array(point.tolist())\n",
    "    centroid = np.array(centroid.tolist())\n",
    "    return np.linalg.norm(point - centroid)"
   ]
  },
  {
   "cell_type": "code",
   "execution_count": 23,
   "metadata": {},
   "outputs": [],
   "source": [
    "def centroid(data):\n",
    "    \"\"\"Find the centroid for one class of object\"\"\"\n",
    "    features, observations = data.shape\n",
    "    if(features > observations):\n",
    "        raise ValueError(\"too few observations\")\n",
    "    \n",
    "    central = []\n",
    "    for i in range(features):\n",
    "        mean = torch.mean(data[i])\n",
    "        central.append(mean)\n",
    "    return torch.FloatTensor(central).to(device)"
   ]
  },
  {
   "cell_type": "code",
   "execution_count": 24,
   "metadata": {},
   "outputs": [],
   "source": [
    "def split_classes(data, labels):\n",
    "    \"\"\"Split data into 2 classes based on corresponding label\"\"\"\n",
    "    loan, not_loan = [], []\n",
    "    for i in range(data.shape[0]):\n",
    "        if(labels[i].item() == 0):#no loan\n",
    "            not_loan.append(data[i].tolist())\n",
    "        else:\n",
    "            loan.append(data[i].tolist())\n",
    "    loan = torch.tensor(loan).to(device)        \n",
    "    not_loan = torch.tensor(not_loan).to(device)\n",
    "    return loan, not_loan"
   ]
  },
  {
   "cell_type": "code",
   "execution_count": 25,
   "metadata": {},
   "outputs": [],
   "source": [
    "loan_train, not_loan_train = split_classes(X_train, y_train)\n",
    "loan_test, not_loan_test = split_classes(X_test, y_test)"
   ]
  },
  {
   "cell_type": "code",
   "execution_count": 26,
   "metadata": {},
   "outputs": [],
   "source": [
    "loan_centroid, not_loan_centroid = centroid(loan_train.T), centroid(not_loan_train.T)"
   ]
  },
  {
   "cell_type": "markdown",
   "metadata": {},
   "source": [
    "### Non conformity score"
   ]
  },
  {
   "cell_type": "code",
   "execution_count": 27,
   "metadata": {},
   "outputs": [],
   "source": [
    "def nonconformity_measure(test_point, label, loan_centroid, non_loan_centroid):\n",
    "    \"\"\"Computes the nonconformity score for a single test-point (HELPER method)\"\"\"\n",
    "    loan_dist = euclid(test_point, loan_centroid)\n",
    "    no_loan_dist = euclid(test_point, non_loan_centroid)\n",
    "    if(label == 1):#loan\n",
    "        return loan_dist/no_loan_dist\n",
    "    else:\n",
    "        return no_loan_dist/loan_dist"
   ]
  },
  {
   "cell_type": "code",
   "execution_count": 28,
   "metadata": {},
   "outputs": [],
   "source": [
    "def subset_nc(testing_data, centroids):\n",
    "    \"\"\"Calculate the non-conformity measure for a subset of data\"\"\"\n",
    "    nums = len(testing_data) #number of conformity scores\n",
    "    l_c, nl_c = centroids #extract centroid into loan and not loan centroid\n",
    "    y_pred = model(testing_data)\n",
    "    predictions = [x.argmax().item() for x in y_pred]\n",
    "    non_conformity_scores = [nonconformity_measure(testing_data[i], predictions[i], l_c, nl_c) for i in range(nums)]\n",
    "    return torch.FloatTensor(non_conformity_scores).to(device)"
   ]
  },
  {
   "cell_type": "code",
   "execution_count": 29,
   "metadata": {},
   "outputs": [],
   "source": [
    "def compute_p_value(data, labels, centroid, nc_scores):\n",
    "    \"\"\"Calculate p-value from a distribution on non-conformity scores\"\"\"\n",
    "    #compute the conformity scores of dataset first (this will be the training data)\n",
    "    #after this, use the conformal function to determine p-value: #{j = 1,...,n: alpha_j ≥ alpha_n}/N\n",
    "    N = len(labels)\n",
    "    lc, nlc = centroid\n",
    "    non_conformity_scores = [nonconformity_measure(data[i], labels[i], lc, nlc) for i in range(N)]\n",
    "    output = []\n",
    "    for test_nc in nc_scores:\n",
    "        scores = 0\n",
    "        for j in range(len(non_conformity_scores)):\n",
    "            if(non_conformity_scores[j] >= test_nc):\n",
    "                scores += 1\n",
    "\n",
    "        p_value = scores/N\n",
    "        output.append(p_value)\n",
    "        \n",
    "    return torch.FloatTensor(output).to(device)"
   ]
  },
  {
   "cell_type": "code",
   "execution_count": 30,
   "metadata": {},
   "outputs": [],
   "source": [
    "nc_scores = subset_nc(X_test, (loan_centroid, not_loan_centroid))"
   ]
  },
  {
   "cell_type": "code",
   "execution_count": 31,
   "metadata": {},
   "outputs": [],
   "source": [
    "p_values = compute_p_value(X_train, y_train, (loan_centroid, not_loan_centroid), nc_scores)"
   ]
  },
  {
   "cell_type": "code",
   "execution_count": 32,
   "metadata": {},
   "outputs": [],
   "source": [
    "def get_error(p_values, epsilon_start, epsilon_end, labels, test_data):\n",
    "    \"\"\"Computes the error at a particular significance level(epislon) on the test data based on p-values\"\"\"\n",
    "    y_pred = model(test_data)\n",
    "    predictions = [x.argmax().item() for x in y_pred] #compute predictions.\n",
    "    confidence = 1 - p_values\n",
    "    score = 0\n",
    "    tots = np.size(np.where((confidence < epsilon_end) & (confidence >= epsilon_start)))\n",
    "    for prediction, label, conf in zip(predictions, labels, confidence):\n",
    "        \n",
    "        if(prediction == label and epsilon_start <= conf < epsilon_end):\n",
    "            score += 1/tots\n",
    "\n",
    "    return score*100, tots"
   ]
  },
  {
   "cell_type": "code",
   "execution_count": 33,
   "metadata": {},
   "outputs": [],
   "source": [
    "error = []\n",
    "samples = []\n",
    "N = 10\n",
    "for i in range(0, N):\n",
    "    score, tots = get_error(p_values, i/N, (i+1)/N, y_test, X_test)\n",
    "    if(tots > 0):\n",
    "        error.append(score)\n",
    "        samples.append(tots)"
   ]
  },
  {
   "cell_type": "code",
   "execution_count": 34,
   "metadata": {},
   "outputs": [
    {
     "data": {
      "image/png": "[encoded data removed]",
      "text/plain": [
       "<Figure size 432x288 with 1 Axes>"
      ]
     },
     "metadata": {
      "needs_background": "light"
     },
     "output_type": "display_data"
    }
   ],
   "source": [
    "plt.bar(np.arange(0, 100, 100//N), error, width=100//N - .5, align='edge')\n",
    "plt.plot(np.arange(0, 100, 100//N), error, 'red')\n",
    "plt.yticks(np.arange(0, 110, 10))\n",
    "plt.xticks(np.arange(0, 110, 100//N))\n",
    "plt.xlabel(\"Epsilon/Confidence level [0% - 100%]\")\n",
    "plt.ylabel(\"Percent accuracy\")\n",
    "plt.title(\"Relationship between confidence level and model accuracy on test data\")\n",
    "plt.grid()\n",
    "plt.show()"
   ]
  },
  {
   "cell_type": "code",
   "execution_count": 35,
   "metadata": {},
   "outputs": [
    {
     "data": {
      "image/png": "[encoded data removed]",
      "text/plain": [
       "<Figure size 432x288 with 1 Axes>"
      ]
     },
     "metadata": {
      "needs_background": "light"
     },
     "output_type": "display_data"
    }
   ],
   "source": [
    "plt.bar(np.arange(0, 100, 100//N), samples, width=100//N - .5, align='edge')\n",
    "plt.plot(np.arange(0, 100, 100//N), samples, 'red')\n",
    "plt.xticks(np.arange(0, 110, 100//N))\n",
    "plt.xlabel(\"Epsilon/Confidence level [0% - 100%]\")\n",
    "plt.ylabel(\"Number of samples\")\n",
    "plt.title(\"Relationship between confidence level and number of samples\")\n",
    "plt.grid()\n",
    "plt.show()"
   ]
  }
 ],
 "metadata": {
  "kernelspec": {
   "display_name": "Python 3",
   "language": "python",
   "name": "python3"
  },
  "language_info": {
   "codemirror_mode": {
    "name": "ipython",
    "version": 3
   },
   "file_extension": ".py",
   "mimetype": "text/x-python",
   "name": "python",
   "nbconvert_exporter": "python",
   "pygments_lexer": "ipython3",
   "version": "3.7.6"
  }
 },
 "nbformat": 4,
 "nbformat_minor": 4
}
